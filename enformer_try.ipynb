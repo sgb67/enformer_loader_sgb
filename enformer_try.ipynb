{
 "cells": [
  {
   "cell_type": "markdown",
   "id": "ddabdb38",
   "metadata": {},
   "source": [
    "# Playing around with Enformer and enformer_loader"
   ]
  },
  {
   "cell_type": "markdown",
   "id": "5f269a20",
   "metadata": {},
   "source": [
    "## We can run VSCode in the farm!"
   ]
  },
  {
   "cell_type": "code",
   "execution_count": 2,
   "id": "73ce8cf8",
   "metadata": {},
   "outputs": [
    {
     "name": "stdout",
     "output_type": "stream",
     "text": [
      "/lustre/scratch126/gengen/teams/parts/sb79/enformer_loader_sgb\n"
     ]
    }
   ],
   "source": [
    "import os\n",
    "\n",
    "cwd = os.getcwd()\n",
    "print(cwd)"
   ]
  },
  {
   "cell_type": "code",
   "execution_count": 3,
   "id": "824f3e45",
   "metadata": {},
   "outputs": [
    {
     "name": "stdout",
     "output_type": "stream",
     "text": [
      "node-13-17\n"
     ]
    }
   ],
   "source": [
    "import socket\n",
    "\n",
    "node_name = socket.gethostname()\n",
    "print(node_name)"
   ]
  },
  {
   "cell_type": "code",
   "execution_count": 7,
   "id": "053ec518",
   "metadata": {},
   "outputs": [
    {
     "name": "stdout",
     "output_type": "stream",
     "text": [
      "Cores Available: 256\n"
     ]
    }
   ],
   "source": [
    "import multiprocess\n",
    "cores = multiprocess.cpu_count()\n",
    "print(\"Cores Available: \" + str(cores))"
   ]
  },
  {
   "cell_type": "code",
   "execution_count": null,
   "id": "ddfef7d6",
   "metadata": {},
   "outputs": [],
   "source": [
    "# Test R code to check connection to a node\n",
    "print(\"Hello, R is running successfully!\")\n",
    "\n",
    "# Check the R version\n",
    "R.version.string\n",
    "\n",
    "# Check the current working directory\n",
    "getwd()\n",
    "# Generate a simple plot\n",
    "x <- rnorm(100)\n",
    "y <- rnorm(100)\n",
    "plot(x, y, main=\"Scatter plot of random points\", xlab=\"X-axis\", ylab=\"Y-axis\")\n",
    "quartz()  # Opens a new window for the plot (on Linux or macOS)\n",
    "plot(1:10, 1:10)"
   ]
  },
  {
   "cell_type": "markdown",
   "id": "d51a4e8f",
   "metadata": {},
   "source": [
    "R code is not that well suited to VSCode... but should be able to write scripts here anyway :)"
   ]
  },
  {
   "cell_type": "markdown",
   "id": "2cd39571",
   "metadata": {},
   "source": [
    "## Let's inspect the enformer_loader output"
   ]
  },
  {
   "cell_type": "code",
   "execution_count": 16,
   "id": "603817f1",
   "metadata": {},
   "outputs": [
    {
     "name": "stderr",
     "output_type": "stream",
     "text": [
      "/software/hgi/installs/conda-audited/miniforge/lib/python3.12/site-packages/tqdm/auto.py:21: TqdmWarning: IProgress not found. Please update jupyter and ipywidgets. See https://ipywidgets.readthedocs.io/en/stable/user_install.html\n",
      "  from .autonotebook import tqdm as notebook_tqdm\n"
     ]
    }
   ],
   "source": [
    "# Import necessary packages\n",
    "import numpy as np\n",
    "import sys\n",
    "import os\n",
    "import pandas as pd\n",
    "from Bio import SeqIO\n",
    "from matplotlib import pyplot as plt\n",
    "from sklearn.metrics import r2_score\n",
    "from scipy.stats import pearsonr\n",
    "import math\n",
    "import torch\n",
    "import torch.nn as nn\n",
    "from tqdm.auto import tqdm\n",
    "import re\n",
    "import csv"
   ]
  },
  {
   "cell_type": "code",
   "execution_count": 18,
   "id": "cf07ebdc",
   "metadata": {},
   "outputs": [
    {
     "data": {
      "text/html": [
       "<div>\n",
       "<style scoped>\n",
       "    .dataframe tbody tr th:only-of-type {\n",
       "        vertical-align: middle;\n",
       "    }\n",
       "\n",
       "    .dataframe tbody tr th {\n",
       "        vertical-align: top;\n",
       "    }\n",
       "\n",
       "    .dataframe thead th {\n",
       "        text-align: right;\n",
       "    }\n",
       "</style>\n",
       "<table border=\"1\" class=\"dataframe\">\n",
       "  <thead>\n",
       "    <tr style=\"text-align: right;\">\n",
       "      <th></th>\n",
       "      <th>0</th>\n",
       "      <th>1</th>\n",
       "      <th>2</th>\n",
       "      <th>3</th>\n",
       "    </tr>\n",
       "  </thead>\n",
       "  <tbody>\n",
       "    <tr>\n",
       "      <th>0</th>\n",
       "      <td>chr1</td>\n",
       "      <td>880</td>\n",
       "      <td>920</td>\n",
       "      <td>[1.0, 1.0]</td>\n",
       "    </tr>\n",
       "    <tr>\n",
       "      <th>1</th>\n",
       "      <td>chr1</td>\n",
       "      <td>493</td>\n",
       "      <td>533</td>\n",
       "      <td>[1.0, 1.0]</td>\n",
       "    </tr>\n",
       "    <tr>\n",
       "      <th>2</th>\n",
       "      <td>chr2</td>\n",
       "      <td>390</td>\n",
       "      <td>430</td>\n",
       "      <td>[2.200000047683716, 3.200000047683716]</td>\n",
       "    </tr>\n",
       "    <tr>\n",
       "      <th>3</th>\n",
       "      <td>chr1</td>\n",
       "      <td>92</td>\n",
       "      <td>132</td>\n",
       "      <td>[1.0, 1.0]</td>\n",
       "    </tr>\n",
       "    <tr>\n",
       "      <th>4</th>\n",
       "      <td>chr1</td>\n",
       "      <td>458</td>\n",
       "      <td>498</td>\n",
       "      <td>[1.0, 1.0]</td>\n",
       "    </tr>\n",
       "    <tr>\n",
       "      <th>...</th>\n",
       "      <td>...</td>\n",
       "      <td>...</td>\n",
       "      <td>...</td>\n",
       "      <td>...</td>\n",
       "    </tr>\n",
       "    <tr>\n",
       "      <th>95</th>\n",
       "      <td>chr3</td>\n",
       "      <td>563</td>\n",
       "      <td>603</td>\n",
       "      <td>[2.0, 2.0]</td>\n",
       "    </tr>\n",
       "    <tr>\n",
       "      <th>96</th>\n",
       "      <td>chr1</td>\n",
       "      <td>319</td>\n",
       "      <td>359</td>\n",
       "      <td>[1.0, 1.0]</td>\n",
       "    </tr>\n",
       "    <tr>\n",
       "      <th>97</th>\n",
       "      <td>chr2</td>\n",
       "      <td>477</td>\n",
       "      <td>517</td>\n",
       "      <td>[3.200000047683716, 3.200000047683716]</td>\n",
       "    </tr>\n",
       "    <tr>\n",
       "      <th>98</th>\n",
       "      <td>chr2</td>\n",
       "      <td>21</td>\n",
       "      <td>61</td>\n",
       "      <td>[0.800000011920929, 0.800000011920929]</td>\n",
       "    </tr>\n",
       "    <tr>\n",
       "      <th>99</th>\n",
       "      <td>chr1</td>\n",
       "      <td>752</td>\n",
       "      <td>792</td>\n",
       "      <td>[1.0, 1.0]</td>\n",
       "    </tr>\n",
       "  </tbody>\n",
       "</table>\n",
       "<p>100 rows × 4 columns</p>\n",
       "</div>"
      ],
      "text/plain": [
       "       0    1    2                                       3\n",
       "0   chr1  880  920                              [1.0, 1.0]\n",
       "1   chr1  493  533                              [1.0, 1.0]\n",
       "2   chr2  390  430  [2.200000047683716, 3.200000047683716]\n",
       "3   chr1   92  132                              [1.0, 1.0]\n",
       "4   chr1  458  498                              [1.0, 1.0]\n",
       "..   ...  ...  ...                                     ...\n",
       "95  chr3  563  603                              [2.0, 2.0]\n",
       "96  chr1  319  359                              [1.0, 1.0]\n",
       "97  chr2  477  517  [3.200000047683716, 3.200000047683716]\n",
       "98  chr2   21   61  [0.800000011920929, 0.800000011920929]\n",
       "99  chr1  752  792                              [1.0, 1.0]\n",
       "\n",
       "[100 rows x 4 columns]"
      ]
     },
     "execution_count": 18,
     "metadata": {},
     "output_type": "execute_result"
    }
   ],
   "source": [
    "# let's import the .bed file from enformer_loader\n",
    "path = 'tests/data/'\n",
    "bed_df = pd.read_csv(path + 'test_dataset.bed', sep='\\t', header=None)\n",
    "bed_df"
   ]
  },
  {
   "cell_type": "code",
   "execution_count": 20,
   "id": "0d20553b",
   "metadata": {},
   "outputs": [
    {
     "ename": "NameError",
     "evalue": "name 'scripts' is not defined",
     "output_type": "error",
     "traceback": [
      "\u001b[0;31m---------------------------------------------------------------------------\u001b[0m",
      "\u001b[0;31mNameError\u001b[0m                                 Traceback (most recent call last)",
      "Cell \u001b[0;32mIn[20], line 2\u001b[0m\n\u001b[1;32m      1\u001b[0m \u001b[38;5;66;03m# see how we could generate a train/val/test dataset for enformer\u001b[39;00m\n\u001b[0;32m----> 2\u001b[0m \u001b[43mscripts\u001b[49m\u001b[38;5;241m/\u001b[39mgenerate_train_val_dataset\u001b[38;5;241m.\u001b[39mpy \u001b[38;5;241m-\u001b[39m\u001b[38;5;241m-\u001b[39mhelp\n",
      "\u001b[0;31mNameError\u001b[0m: name 'scripts' is not defined"
     ]
    }
   ],
   "source": [
    "# see how we could generate a train/val/test dataset for enformer\n"
   ]
  },
  {
   "cell_type": "code",
   "execution_count": null,
   "id": "2de73239",
   "metadata": {},
   "outputs": [],
   "source": []
  }
 ],
 "metadata": {
  "kernelspec": {
   "display_name": "base",
   "language": "python",
   "name": "python3"
  },
  "language_info": {
   "codemirror_mode": {
    "name": "ipython",
    "version": 3
   },
   "file_extension": ".py",
   "mimetype": "text/x-python",
   "name": "python",
   "nbconvert_exporter": "python",
   "pygments_lexer": "ipython3",
   "version": "3.12.6"
  }
 },
 "nbformat": 4,
 "nbformat_minor": 5
}
